{
 "cells": [
  {
   "cell_type": "code",
   "execution_count": null,
   "metadata": {},
   "outputs": [],
   "source": [
    "import pandas as pd\n",
    "import glob\n"
   ]
  },
  {
   "cell_type": "markdown",
   "metadata": {},
   "source": [
    "# Code from the lab\n",
    "To ensure that everyone is working with the same material, I have provided a set of common functions and code that might be useful to you as part of the homework. Feel free to build off of these in your answers. \n"
   ]
  },
  {
   "cell_type": "code",
   "execution_count": null,
   "metadata": {},
   "outputs": [],
   "source": [
    "# Reading in a codon table \n",
    "codon_dict = {}\n",
    "with open('codon-tables/std-code.tab', 'r') as f: #open file\n",
    "    for line in f: # read through each line\n",
    "        trip, aa1, code3 = line.strip().split(' ') #strip white space and get the codon code, single letter, and three leter values\n",
    "        codon_dict[trip] = aa1 # write out a dictionary"
   ]
  },
  {
   "cell_type": "code",
   "execution_count": null,
   "metadata": {},
   "outputs": [],
   "source": [
    "# Basic translate function (converts given nucleotide sequence to amino acids)\n",
    "\n",
    "def get_protein(sequence='AATGCTGACTCCTTCGT'): #if no sequence is provided-- will default to the tester sequence\n",
    "    assert(set(sequence).issubset(set(['A', 'C','T','G']))), \"Sequence must consist only of A, C, T, G\" \n",
    "    #Assertion statement verifys that the user is only providing a sequence that contains ACTG -- if other characters are \n",
    "    #present it will raise an error\n",
    "    protein='' #initiate an empty string that can be added to\n",
    "    for i in range(0,len(sequence), 3): #loops over the length of the protein\n",
    "        codon = sequence[i:i+3] #takes chunks of 3 from the sequence based on i position\n",
    "        if len(codon)!=3: # allows for sequences that are not mod 3 to work by passing if the sequence is 1 or 2\n",
    "            pass\n",
    "        else:\n",
    "            protein += codon_dict[codon] #otherwise, codon is looked up in dictionary and appeneded to protein string\n",
    "    return(protein) \n"
   ]
  },
  {
   "cell_type": "code",
   "execution_count": null,
   "metadata": {},
   "outputs": [],
   "source": [
    "#Basic reverse complement function \n",
    "\n",
    "def reverse_complement(sequence='AATGCTGACTCCTTCGTG'):   \n",
    "    complement = {'A': 'T', 'C': 'G', 'G': 'C', 'T': 'A'} #complement dictionary \n",
    "    comp_seq = '' # initiate empty string to be added to\n",
    "    for base in sequence: #loop over input sequence \n",
    "        comp_seq += complement[base] #write complement string\n",
    "    rev_comp_seq = comp_seq[::-1] #reverse string   \n",
    "    return(rev_comp_seq)\n"
   ]
  },
  {
   "cell_type": "markdown",
   "metadata": {},
   "source": [
    "# Six Frame translation \n",
    "The code we wrote in lab efficiently translates our nucleotide sequence into protein space. However, proteins can be identified from a DNA sequence in a total of 6 different frames. Forward (5' --> 3') starting at 0, 1, or 2 nucleotide postitions in and the reverse complement (3' --> 5') starting at the 0, 1, or 2 nucleotide postions. Our inital function (`get_protein`) only returns 1 frame (forward starting at the 0 position). \n",
    "\n",
    "**Q1) Write a python function called `six_frame` which returns each of the 6 frames as a dictionary with the form: dict={'F0':SEQUENCE, 'F1':SEQUENCE, 'F2':SEQUENCE, 'R0':SEQUENCE, 'R1':SEQUENCE, 'R2':SEQUENCE}. Make sure that you *assert* that the input sequence only contains ACTGs. Make sure that the function can run on strings that are not divisible by 3.**  \n",
    "\n",
    "**Hint:** You can call on the reverse complement function that we wrote previously and use the function we wrote in class (get_protein) to help you think about how to tackle this problem. \n"
   ]
  },
  {
   "cell_type": "code",
   "execution_count": null,
   "metadata": {},
   "outputs": [],
   "source": [
    "def six_frame(sequence='AATGCTGACTCCTTCGTGTGATTA'):\n",
    "    #Fill in code here    \n",
    "    \n",
    "    return()\n",
    "\n",
    "six_frame()\n"
   ]
  },
  {
   "cell_type": "markdown",
   "metadata": {},
   "source": [
    "## TESTING\n",
    "To help you **test** your code you can run the following assertion statements. If any of the commands come up as `FAIL` then something is not working in your code. If nothing is printed after you run the cell-- your code is passing. \n",
    "\n",
    "**Once your code passes all the assertion statements below add one more assertion statement to test your code**"
   ]
  },
  {
   "cell_type": "code",
   "execution_count": null,
   "metadata": {},
   "outputs": [],
   "source": [
    "TESTOUT = six_frame('CTAGCTCTCTAGCTATGATTA')\n",
    "TESTOUT2 = six_frame()\n",
    "assert set(TESTOUT.keys()).issubset(set(['F0','F1','F2','R0','R1','R2'])), (\"FAILED: dictionary keys are missing or incorrect\")\n",
    "assert TESTOUT['F0']=='LAL*L*L', ('FAILED: F0 does not have correct translation')\n",
    "assert TESTOUT['R2']=='IIAREL', ('FAILED: R2 does not have correct translation')\n",
    "assert TESTOUT2['R1']=='NHTKESA', (\"FAILED: R1 does not havve correct translation OR default is not set\")"
   ]
  },
  {
   "cell_type": "markdown",
   "metadata": {},
   "source": [
    "# Returning one frame only\n",
    "   **Q2) Create a new function called `six_frame_specify` that is a modification of your `six_frame` function. This function should allow users who know what translation frame (with parameter `frame`) they want to specify that as the output (F0, F1, etc.). If the user does not provide an input for `frame`, return the whole dictionary as in `six_frame`. If the user inputs something other than F1, F0 (i.e. the keys of your dictionary) use an assertion statement to prompt the user to input the proper key.**"
   ]
  },
  {
   "cell_type": "code",
   "execution_count": null,
   "metadata": {},
   "outputs": [],
   "source": [
    "def six_frame_specify(sequence='AATGCTGACTCCTTCGTGTGATTA'):\n",
    "    ## FILL IN YOUR CODE HERE\n",
    "    return()\n",
    "six_frame_specify()"
   ]
  },
  {
   "cell_type": "markdown",
   "metadata": {},
   "source": [
    "## TESTING\n",
    "Again, `assert` statements are provided to help you test your code. "
   ]
  },
  {
   "cell_type": "code",
   "execution_count": null,
   "metadata": {},
   "outputs": [],
   "source": [
    "TESTOUT3 = six_frame_specify('CTAGCTCTCTAGCTATGATTA')\n",
    "TESTOUT4 = six_frame_specify('CTAGCTCTCTAGCTATGATTA', frame='R0')\n",
    "\n",
    "assert type(TESTOUT3) is dict, ('FAILED: if no frame is provided function should return a dictionary')\n",
    "assert type(TESTOUT4) is str, ('FAILED: if frame is provided function should return a string')\n",
    "assert TESTOUT4 == '*S*LES*', ('FAILED: incorrect translation provided for R0')\n"
   ]
  },
  {
   "cell_type": "markdown",
   "metadata": {},
   "source": [
    "# Alternate codon dictionaries\n",
    "Not all organisms use the same 'codon' dictionary. Moreover, unique translations exist between organelles. Vertebrate and invertebrate mitocondria have a unique code. Look at the folder `codon-tables`. I have included examples of four different codon tables: 1) the standard eukaryotic (`std-code.tab`), 2) the vertebrate mitochondrial (`vemito-code.tab`), 3) the invertebrate mitochondrial (`inmito-code.tab`), and 4) the ciliate mesodinium (`meso-code.tab`). \n",
    "\n",
    "**Q3) Create a new function called `six_frame_changetable` by copying and modifying `six_frame_specify`. This new function should allow users to specify which codon table they would like to use with the parameter `codon_table`. `codon_table` can be set to the following key words: `std-code`, `inmito-code`, `vemito-code`, or `meso-code`, all of which correspond with the filenames in the directory `codon-tables/`. If the table is not specified make standard the default. If an improper key is used you should default to standard. In all cases you should PRINT what codon dictionary is used.** \n",
    "\n",
    "Note: You should create another function called `read_in_tables` which when provided with a *directory* will read in all codon tables within that directory. This function can assume that only codon tables are in that directory and that all tables have the same format. Hint: You might find the `glob` function useful. You might also decide that you want to read in tables with pandas but then you will likely have to modify some elements of the other function. "
   ]
  },
  {
   "cell_type": "code",
   "execution_count": null,
   "metadata": {},
   "outputs": [],
   "source": [
    "def read_in_tables(folder='codon-tables/'):\n",
    "    \n",
    "    #read in all codon tables to EITHER a dictionary of dictionaries OR a pandas dataframes \n",
    "    return()\n",
    "\n",
    "def six_frame_changetable(sequence='TAAAGGGCTGACTCCTTCGTGTGATTA'):\n",
    "    ## FILL IN YOUR CODE HERE\n",
    "    return()\n"
   ]
  },
  {
   "cell_type": "markdown",
   "metadata": {},
   "source": [
    "## TESTING "
   ]
  },
  {
   "cell_type": "code",
   "execution_count": null,
   "metadata": {},
   "outputs": [],
   "source": [
    "TESTOUT5 = six_frame_changetable('CTAGCTCTCTAGCTATGATTA', frame='F0', codon_table='std-code')\n",
    "TESTOUT6 = six_frame_changetable('CTAGCTCTCTAGCTATGATTA', frame='F0', codon_table='meso-code')\n",
    "TESTOUT7 = six_frame_changetable('CTAGCTCTCTAGCTATGATTA', frame='F0', codon_table='messedUP')\n",
    "TESTOUT8 = six_frame_changetable('CTAGCTCTCTAGCTATGATTA', codon_table='invert-mito-code')\n",
    "\n",
    "assert TESTOUT5 == 'LAL*L*L', ('FAILED: incorrect translation provided. Is correct codon table being used?')\n",
    "assert TESTOUT6 == 'LALYL*L', ('FAILED: incorrect translation provided. Is correct codon table being used?')\n",
    "assert TESTOUT7 == TESTOUT5, ('FAILED: if there is a typo should default to std code.')\n",
    "assert type(TESTOUT8) is dict, ('FAILED: if no frame is specified function should return a dictionary.')\n"
   ]
  },
  {
   "cell_type": "markdown",
   "metadata": {},
   "source": [
    "## BioPython\n",
    "\n",
    "Great job! You created a function that can programatically help users translate their sequences of interest. Unsurprisingly, you are not the first to write a program like this. A python package, `BioPython`, exists that does a fantastic job of handling biological sequences and has the functionality that we just created. \n",
    "\n",
    "Read up on the `Seq` module in `BioPython` here: https://biopython.org/wiki/Seq. \n",
    "\n",
    "**Q4) Check the output of your final function `reverse_complement` and `six_frame_changetable` compared to the `Seq` module functions. How do the outputs compare?**\n",
    "\n",
    "You will want to install BioPython within your conda environment and then run the reverse complement and six frame translation function with BioPython as well as your own functions for `sequence1` and `sequence2`. "
   ]
  },
  {
   "cell_type": "code",
   "execution_count": null,
   "metadata": {},
   "outputs": [],
   "source": [
    "sequence1 = 'CATTATCTGGGGGGGG'\n",
    "sequence2 = 'CTATATTTAAAGGAAAAA'"
   ]
  },
  {
   "cell_type": "code",
   "execution_count": null,
   "metadata": {},
   "outputs": [],
   "source": []
  }
 ],
 "metadata": {
  "kernelspec": {
   "display_name": "Python [conda env:python_homework] *",
   "language": "python",
   "name": "conda-env-python_homework-py"
  },
  "language_info": {
   "codemirror_mode": {
    "name": "ipython",
    "version": 2
   },
   "file_extension": ".py",
   "mimetype": "text/x-python",
   "name": "python",
   "nbconvert_exporter": "python",
   "pygments_lexer": "ipython2",
   "version": "2.7.16"
  }
 },
 "nbformat": 4,
 "nbformat_minor": 2
}
